{
 "cells": [
  {
   "cell_type": "markdown",
   "metadata": {},
   "source": [
    "<center>\n",
    "    <img src=\"https://gitlab.com/ibm/skills-network/courses/placeholder101/-/raw/master/labs/module%201/images/IDSNlogo.png\" width=\"300\" alt=\"cognitiveclass.ai logo\"  />\n",
    "</center>\n"
   ]
  },
  {
   "cell_type": "markdown",
   "metadata": {},
   "source": [
    "# Peer Review Assignment - Data Engineer - Extract API Data\n"
   ]
  },
  {
   "cell_type": "markdown",
   "metadata": {},
   "source": [
    "Estimated time needed: **20** minutes\n"
   ]
  },
  {
   "cell_type": "markdown",
   "metadata": {},
   "source": [
    "## Objectives\n",
    "\n",
    "In this part you will:\n",
    "\n",
    "*   Collect exchange rate data using an API\n",
    "*   Store the data as a CSV\n"
   ]
  },
  {
   "cell_type": "markdown",
   "metadata": {},
   "source": [
    "For this lab, we are going to be using Python and several Python libraries. Some of these libraries might be installed in your lab environment or in SN Labs. Others may need to be installed by you. The cells below will install these libraries when executed.\n"
   ]
  },
  {
   "cell_type": "code",
   "execution_count": 1,
   "metadata": {},
   "outputs": [],
   "source": [
    "#!pip install pandas\n",
    "#!pip install requests"
   ]
  },
  {
   "cell_type": "markdown",
   "metadata": {},
   "source": [
    "## Imports\n",
    "\n",
    "Import any additional libraries you may need here.\n"
   ]
  },
  {
   "cell_type": "code",
   "execution_count": 2,
   "metadata": {},
   "outputs": [],
   "source": [
    "import requests\n",
    "import pandas as pd"
   ]
  },
  {
   "cell_type": "markdown",
   "metadata": {},
   "source": [
    "## Extract Data Using an API\n"
   ]
  },
  {
   "cell_type": "markdown",
   "metadata": {},
   "source": [
    "Using ExchangeRate-API we will extract currency exchange rate data. Use the below steps to get the access key and to get the data.\n",
    "\n",
    "1.  Open the url : [https://exchangeratesapi.io/](https://exchangeratesapi.io/?utm_medium=Exinfluencer&utm_source=Exinfluencer&utm_content=000026UJ&utm_term=10006555&utm_id=NA-SkillsNetwork-Channel-SkillsNetworkCoursesIBMDeveloperSkillsNetworkPY0221ENSkillsNetwork23455645-2021-01-01) and create a free account.\n",
    "2.  Once the account is created. You will get the Get the Free API key option on the top as shown below:\n",
    "\n",
    "<img src=\"https://cf-courses-data.s3.us.cloud-object-storage.appdomain.cloud/IBMDeveloperSkillsNetwork-PY0221EN-SkillsNetwork/labs/module%206/Final%20Assignment/Images/getapi.png\"/>\n",
    "\n",
    "3.  Copy the API key and use in the url in Question 1.\n"
   ]
  },
  {
   "cell_type": "markdown",
   "metadata": {},
   "source": [
    "### Call the API\n",
    "\n",
    "<b> Question 1</b> Using the `requests` library call the endpoint given above and save the text, remember the first few characters of the output:\n"
   ]
  },
  {
   "cell_type": "code",
   "execution_count": 15,
   "metadata": {},
   "outputs": [],
   "source": [
    "# Write your code here\n",
    "url = \"http://api.exchangeratesapi.io/v1/latest?base=EUR&access_key=80071266641478a8df671ae3abcfd0c6\"  #Make sure to change ******* to your API key.\n",
    "html_data = requests.get(url).text"
   ]
  },
  {
   "cell_type": "code",
   "execution_count": 16,
   "metadata": {},
   "outputs": [],
   "source": [
    "html_data = html_data[html_data.index('rates'):-1]\n",
    "html_data = html_data[html_data.index('{')+1:-1]"
   ]
  },
  {
   "cell_type": "code",
   "execution_count": 18,
   "metadata": {},
   "outputs": [],
   "source": [
    "data_list = html_data.split(',')"
   ]
  },
  {
   "cell_type": "code",
   "execution_count": 22,
   "metadata": {},
   "outputs": [
    {
     "name": "stdout",
     "output_type": "stream",
     "text": [
      "['\"AED\"', '\"AFN\"', '\"ALL\"', '\"AMD\"', '\"ANG\"', '\"AOA\"', '\"ARS\"', '\"AUD\"', '\"AWG\"', '\"AZN\"', '\"BAM\"', '\"BBD\"', '\"BDT\"', '\"BGN\"', '\"BHD\"', '\"BIF\"', '\"BMD\"', '\"BND\"', '\"BOB\"', '\"BRL\"', '\"BSD\"', '\"BTC\"', '\"BTN\"', '\"BWP\"', '\"BYN\"', '\"BYR\"', '\"BZD\"', '\"CAD\"', '\"CDF\"', '\"CHF\"', '\"CLF\"', '\"CLP\"', '\"CNY\"', '\"COP\"', '\"CRC\"', '\"CUC\"', '\"CUP\"', '\"CVE\"', '\"CZK\"', '\"DJF\"', '\"DKK\"', '\"DOP\"', '\"DZD\"', '\"EGP\"', '\"ERN\"', '\"ETB\"', '\"EUR\"', '\"FJD\"', '\"FKP\"', '\"GBP\"', '\"GEL\"', '\"GGP\"', '\"GHS\"', '\"GIP\"', '\"GMD\"', '\"GNF\"', '\"GTQ\"', '\"GYD\"', '\"HKD\"', '\"HNL\"', '\"HRK\"', '\"HTG\"', '\"HUF\"', '\"IDR\"', '\"ILS\"', '\"IMP\"', '\"INR\"', '\"IQD\"', '\"IRR\"', '\"ISK\"', '\"JEP\"', '\"JMD\"', '\"JOD\"', '\"JPY\"', '\"KES\"', '\"KGS\"', '\"KHR\"', '\"KMF\"', '\"KPW\"', '\"KRW\"', '\"KWD\"', '\"KYD\"', '\"KZT\"', '\"LAK\"', '\"LBP\"', '\"LKR\"', '\"LRD\"', '\"LSL\"', '\"LTL\"', '\"LVL\"', '\"LYD\"', '\"MAD\"', '\"MDL\"', '\"MGA\"', '\"MKD\"', '\"MMK\"', '\"MNT\"', '\"MOP\"', '\"MRO\"', '\"MUR\"', '\"MVR\"', '\"MWK\"', '\"MXN\"', '\"MYR\"', '\"MZN\"', '\"NAD\"', '\"NGN\"', '\"NIO\"', '\"NOK\"', '\"NPR\"', '\"NZD\"', '\"OMR\"', '\"PAB\"', '\"PEN\"', '\"PGK\"', '\"PHP\"', '\"PKR\"', '\"PLN\"', '\"PYG\"', '\"QAR\"', '\"RON\"', '\"RSD\"', '\"RUB\"', '\"RWF\"', '\"SAR\"', '\"SBD\"', '\"SCR\"', '\"SDG\"', '\"SEK\"', '\"SGD\"', '\"SHP\"', '\"SLL\"', '\"SOS\"', '\"SRD\"', '\"STD\"', '\"SVC\"', '\"SYP\"', '\"SZL\"', '\"THB\"', '\"TJS\"', '\"TMT\"', '\"TND\"', '\"TOP\"', '\"TRY\"', '\"TTD\"', '\"TWD\"', '\"TZS\"', '\"UAH\"', '\"UGX\"', '\"USD\"', '\"UYU\"', '\"UZS\"', '\"VEF\"', '\"VND\"', '\"VUV\"', '\"WST\"', '\"XAF\"', '\"XAG\"', '\"XAU\"', '\"XCD\"', '\"XDR\"', '\"XOF\"', '\"XPF\"', '\"YER\"', '\"ZAR\"', '\"ZMK\"', '\"ZMW\"', '\"ZWL\"']\n",
      "[4.325492, 101.43806, 121.819679, 580.026085, 2.113768, 749.061146, 114.679114, 1.620745, 2.120293, 2.006053, 1.955985, 2.377689, 100.507186, 1.958644, 0.443971, 2336.345792, 1.177614, 1.592727, 8.119445, 6.136426, 1.177594, 2.5066732e-05, 87.353941, 13.186948, 2.960735, 23081.225896, 2.373689, 1.484164, 2351.69458, 1.078894, 0.033425, 922.301766, 7.633177, 4552.06524, 732.038163, 1.177614, 31.20676, 110.273762, 25.557514, 209.636656, 7.436571, 67.016325, 159.201324, 18.520796, 17.669871, 53.696366, 1.0, 2.476109, 0.850947, 0.856802, 3.674223, 0.850947, 7.112665, 0.850947, 60.246932, 11543.317163, 9.114524, 246.17956, 9.169664, 28.031227, 7.489527, 116.287239, 348.991653, 17010.569082, 3.792383, 0.850947, 87.321753, 1718.10651, 49683.516564, 148.579348, 0.850947, 179.482261, 0.834904, 129.636424, 129.266391, 99.743584, 4802.181553, 493.243476, 1059.852408, 1374.605154, 0.35445, 0.981378, 502.829952, 11287.196813, 1780.741487, 234.928966, 202.372542, 17.629132, 3.477187, 0.712327, 5.332424, 10.558739, 20.837456, 4619.097006, 61.619896, 1938.310907, 3357.259862, 9.44475, 420.407841, 50.696058, 18.217762, 956.803022, 23.904396, 4.940133, 75.043445, 17.629132, 484.576176, 41.351286, 10.357082, 139.766105, 1.688704, 0.453393, 1.177594, 4.809482, 4.187733, 58.838277, 196.362902, 4.576193, 8158.348213, 4.287696, 4.931732, 117.589343, 87.109844, 1187.914385, 4.416976, 9.481646, 15.156031, 521.097484, 10.237642, 1.592516, 1.622038, 12158.860258, 688.903731, 25.169109, 24374.223226, 10.303819, 1480.93617, 17.565296, 38.543561, 13.436268, 4.121647, 3.282601, 2.665298, 9.850793, 8.006936, 32.907823, 2730.826975, 31.577409, 4162.730746, 1.177614, 50.430007, 12546.036833, 251809370669.2647, 26834.280331, 130.581948, 3.01559, 656.009123, 0.049634, 0.000658, 3.18256, 0.829166, 656.003551, 119.757324, 295.346157, 17.549704, 10599.931625, 19.341937, 379.191088]\n"
     ]
    }
   ],
   "source": [
    "curr = []\n",
    "amount = []\n",
    "for i in data_list:\n",
    "    a,b = i.split(':')\n",
    "    curr.append(a)\n",
    "    amount.append(float(b))\n",
    "print(curr)\n",
    "print(amount)"
   ]
  },
  {
   "cell_type": "markdown",
   "metadata": {},
   "source": [
    "### Save as DataFrame\n",
    "\n",
    "<b> Question 2</b>  Using the data gathered turn it into a `pandas` dataframe. The dataframe should have the Currency as the index and `Rate` as their columns. Make sure to drop unnecessary columns.\n"
   ]
  },
  {
   "cell_type": "code",
   "execution_count": 24,
   "metadata": {},
   "outputs": [
    {
     "data": {
      "text/html": [
       "<div>\n",
       "<style scoped>\n",
       "    .dataframe tbody tr th:only-of-type {\n",
       "        vertical-align: middle;\n",
       "    }\n",
       "\n",
       "    .dataframe tbody tr th {\n",
       "        vertical-align: top;\n",
       "    }\n",
       "\n",
       "    .dataframe thead th {\n",
       "        text-align: right;\n",
       "    }\n",
       "</style>\n",
       "<table border=\"1\" class=\"dataframe\">\n",
       "  <thead>\n",
       "    <tr style=\"text-align: right;\">\n",
       "      <th></th>\n",
       "      <th>Rate</th>\n",
       "    </tr>\n",
       "    <tr>\n",
       "      <th>Currency</th>\n",
       "      <th></th>\n",
       "    </tr>\n",
       "  </thead>\n",
       "  <tbody>\n",
       "    <tr>\n",
       "      <th>\"AED\"</th>\n",
       "      <td>4.325492</td>\n",
       "    </tr>\n",
       "    <tr>\n",
       "      <th>\"AFN\"</th>\n",
       "      <td>101.438060</td>\n",
       "    </tr>\n",
       "    <tr>\n",
       "      <th>\"ALL\"</th>\n",
       "      <td>121.819679</td>\n",
       "    </tr>\n",
       "    <tr>\n",
       "      <th>\"AMD\"</th>\n",
       "      <td>580.026085</td>\n",
       "    </tr>\n",
       "    <tr>\n",
       "      <th>\"ANG\"</th>\n",
       "      <td>2.113768</td>\n",
       "    </tr>\n",
       "  </tbody>\n",
       "</table>\n",
       "</div>"
      ],
      "text/plain": [
       "                Rate\n",
       "Currency            \n",
       "\"AED\"       4.325492\n",
       "\"AFN\"     101.438060\n",
       "\"ALL\"     121.819679\n",
       "\"AMD\"     580.026085\n",
       "\"ANG\"       2.113768"
      ]
     },
     "execution_count": 24,
     "metadata": {},
     "output_type": "execute_result"
    }
   ],
   "source": [
    "# Turn the data into a dataframe\n",
    "df = pd.DataFrame({\"Currency\":curr, \"Rate\":amount})\n",
    "df.set_index(['Currency'],inplace=True)\n",
    "df.head()"
   ]
  },
  {
   "cell_type": "markdown",
   "metadata": {},
   "source": [
    "### Load the Data\n",
    "\n",
    "Using the dataframe save it as a CSV names `exchange_rates_1.csv`.\n"
   ]
  },
  {
   "cell_type": "code",
   "execution_count": 25,
   "metadata": {},
   "outputs": [],
   "source": [
    "# Save the Dataframe\n",
    "df.to_csv('exchange_rates_1.csv')"
   ]
  },
  {
   "cell_type": "markdown",
   "metadata": {},
   "source": [
    "Your CSV should be in this format with more currencies\n",
    "\n",
    "|     | Rates      |\n",
    "| --- | ---------- |\n",
    "| AED | 4.398618   |\n",
    "| AFN | 92.917693  |\n",
    "| ALL | 123.099093 |\n",
    "| AMD | 621.935674 |\n",
    "| ANG | 2.149648   |\n"
   ]
  },
  {
   "cell_type": "markdown",
   "metadata": {},
   "source": [
    "## Authors\n"
   ]
  },
  {
   "cell_type": "markdown",
   "metadata": {},
   "source": [
    "Ramesh Sannareddy, Joseph Santarcangelo and Azim Hirjani\n"
   ]
  },
  {
   "cell_type": "markdown",
   "metadata": {},
   "source": [
    "### Other Contributors\n"
   ]
  },
  {
   "cell_type": "markdown",
   "metadata": {},
   "source": [
    "Rav Ahuja\n"
   ]
  },
  {
   "cell_type": "markdown",
   "metadata": {},
   "source": [
    "## Change Log\n"
   ]
  },
  {
   "cell_type": "markdown",
   "metadata": {},
   "source": [
    "| Date (YYYY-MM-DD) | Version | Changed By        | Change Description                 |\n",
    "| ----------------- | ------- | ----------------- | ---------------------------------- |\n",
    "| 2021-08-24        | 0.3     | Chitresh Kaushik  | Completed the lab from USD to EUR  |\n",
    "| 2021-04-15        | 0.2     | Malika            | Updated the lab from USD to EUR    |\n",
    "| 2020-11-25        | 0.1     | Ramesh Sannareddy | Created initial version of the lab |\n"
   ]
  },
  {
   "cell_type": "markdown",
   "metadata": {},
   "source": [
    "Copyright © 2020 IBM Corporation. This notebook and its source code are released under the terms of the [MIT License](https://cognitiveclass.ai/mit-license?utm_medium=Exinfluencer&utm_source=Exinfluencer&utm_content=000026UJ&utm_term=10006555&utm_id=NA-SkillsNetwork-Channel-SkillsNetworkCoursesIBMDeveloperSkillsNetworkPY0221ENSkillsNetwork23455645-2021-01-01&cm_mmc=Email_Newsletter-\\_-Developer_Ed%2BTech-\\_-WW_WW-\\_-SkillsNetwork-Courses-IBM-DA0321EN-SkillsNetwork-21426264&cm_mmca1=000026UJ&cm_mmca2=10006555&cm_mmca3=M12345678&cvosrc=email.Newsletter.M12345678&cvo_campaign=000026UJ).\n"
   ]
  }
 ],
 "metadata": {
  "kernelspec": {
   "display_name": "Python 3",
   "language": "python",
   "name": "python3"
  },
  "language_info": {
   "codemirror_mode": {
    "name": "ipython",
    "version": 3
   },
   "file_extension": ".py",
   "mimetype": "text/x-python",
   "name": "python",
   "nbconvert_exporter": "python",
   "pygments_lexer": "ipython3",
   "version": "3.6.13"
  }
 },
 "nbformat": 4,
 "nbformat_minor": 4
}
